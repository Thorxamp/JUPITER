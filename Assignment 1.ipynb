{
 "cells": [
  {
   "cell_type": "code",
   "execution_count": 1,
   "id": "5ecc13f2",
   "metadata": {},
   "outputs": [
    {
     "name": "stdout",
     "output_type": "stream",
     "text": [
      "2\n",
      "3\n"
     ]
    }
   ],
   "source": [
    "x=2\n",
    "y=3\n",
    "print(x)\n",
    "print(y)"
   ]
  },
  {
   "cell_type": "code",
   "execution_count": 2,
   "id": "f9d96d6d",
   "metadata": {},
   "outputs": [],
   "source": [
    "x = 'abc'"
   ]
  },
  {
   "cell_type": "code",
   "execution_count": 3,
   "id": "af6a8c61",
   "metadata": {},
   "outputs": [
    {
     "data": {
      "text/plain": [
       "str"
      ]
     },
     "execution_count": 3,
     "metadata": {},
     "output_type": "execute_result"
    }
   ],
   "source": [
    "type(x)"
   ]
  },
  {
   "cell_type": "code",
   "execution_count": 4,
   "id": "ea86dd6d",
   "metadata": {},
   "outputs": [],
   "source": [
    "x = 5"
   ]
  },
  {
   "cell_type": "code",
   "execution_count": 5,
   "id": "d0969065",
   "metadata": {},
   "outputs": [
    {
     "data": {
      "text/plain": [
       "int"
      ]
     },
     "execution_count": 5,
     "metadata": {},
     "output_type": "execute_result"
    }
   ],
   "source": [
    "type(5)"
   ]
  },
  {
   "cell_type": "code",
   "execution_count": 6,
   "id": "75528010",
   "metadata": {},
   "outputs": [],
   "source": [
    "myFloat = 78.11"
   ]
  },
  {
   "cell_type": "code",
   "execution_count": 7,
   "id": "d68aa0e0",
   "metadata": {},
   "outputs": [
    {
     "data": {
      "text/plain": [
       "2335965769296"
      ]
     },
     "execution_count": 7,
     "metadata": {},
     "output_type": "execute_result"
    }
   ],
   "source": [
    "id(myFloat)"
   ]
  },
  {
   "cell_type": "code",
   "execution_count": 8,
   "id": "6182c30e",
   "metadata": {},
   "outputs": [],
   "source": [
    "myInt = int(myFloat)"
   ]
  },
  {
   "cell_type": "code",
   "execution_count": 9,
   "id": "0017fcf5",
   "metadata": {},
   "outputs": [
    {
     "data": {
      "text/plain": [
       "78"
      ]
     },
     "execution_count": 9,
     "metadata": {},
     "output_type": "execute_result"
    }
   ],
   "source": [
    "myInt"
   ]
  },
  {
   "cell_type": "code",
   "execution_count": 10,
   "id": "d92dd0ac",
   "metadata": {},
   "outputs": [
    {
     "data": {
      "text/plain": [
       "140709849701576"
      ]
     },
     "execution_count": 10,
     "metadata": {},
     "output_type": "execute_result"
    }
   ],
   "source": [
    "id(myInt)"
   ]
  },
  {
   "cell_type": "code",
   "execution_count": 11,
   "id": "d3d234b7",
   "metadata": {},
   "outputs": [
    {
     "data": {
      "text/plain": [
       "140709849701576"
      ]
     },
     "execution_count": 11,
     "metadata": {},
     "output_type": "execute_result"
    }
   ],
   "source": [
    "id(78)"
   ]
  },
  {
   "cell_type": "code",
   "execution_count": null,
   "id": "d46ff6c6",
   "metadata": {},
   "outputs": [],
   "source": []
  }
 ],
 "metadata": {
  "kernelspec": {
   "display_name": "Python 3 (ipykernel)",
   "language": "python",
   "name": "python3"
  },
  "language_info": {
   "codemirror_mode": {
    "name": "ipython",
    "version": 3
   },
   "file_extension": ".py",
   "mimetype": "text/x-python",
   "name": "python",
   "nbconvert_exporter": "python",
   "pygments_lexer": "ipython3",
   "version": "3.11.5"
  }
 },
 "nbformat": 4,
 "nbformat_minor": 5
}
